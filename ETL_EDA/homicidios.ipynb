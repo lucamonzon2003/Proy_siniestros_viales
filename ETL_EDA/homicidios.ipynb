{
 "cells": [
  {
   "cell_type": "code",
   "execution_count": 135,
   "metadata": {},
   "outputs": [],
   "source": [
    "import pandas as pd\n",
    "import matplotlib.pyplot as plt\n",
    "import seaborn as sns\n",
    "import numpy as np\n",
    "# openpyxl"
   ]
  },
  {
   "cell_type": "markdown",
   "metadata": {},
   "source": [
    "# 1 ETL"
   ]
  },
  {
   "cell_type": "markdown",
   "metadata": {},
   "source": [
    "## 1.1 Carga de los datos"
   ]
  },
  {
   "cell_type": "code",
   "execution_count": 136,
   "metadata": {},
   "outputs": [],
   "source": [
    "homicidios_df = pd.read_excel('..\\Archivos_xlsx\\homicidios.xlsx')"
   ]
  },
  {
   "cell_type": "code",
   "execution_count": 137,
   "metadata": {},
   "outputs": [],
   "source": [
    "homicidios_df['Dirección Normalizada'] = homicidios_df['Dirección Normalizada'].str.replace('Ã‘', 'Ñ')\n",
    "homicidios_df['Cruce'] = homicidios_df['Cruce'].str.replace('?', 'Ñ')"
   ]
  },
  {
   "cell_type": "markdown",
   "metadata": {},
   "source": [
    "Corrige los caracteres incorrectos"
   ]
  },
  {
   "cell_type": "markdown",
   "metadata": {},
   "source": [
    "## 1.2 Formatos y tipos"
   ]
  },
  {
   "cell_type": "code",
   "execution_count": 138,
   "metadata": {},
   "outputs": [
    {
     "data": {
      "text/html": [
       "<div>\n",
       "<style scoped>\n",
       "    .dataframe tbody tr th:only-of-type {\n",
       "        vertical-align: middle;\n",
       "    }\n",
       "\n",
       "    .dataframe tbody tr th {\n",
       "        vertical-align: top;\n",
       "    }\n",
       "\n",
       "    .dataframe thead th {\n",
       "        text-align: right;\n",
       "    }\n",
       "</style>\n",
       "<table border=\"1\" class=\"dataframe\">\n",
       "  <thead>\n",
       "    <tr style=\"text-align: right;\">\n",
       "      <th></th>\n",
       "      <th>ID</th>\n",
       "      <th>N_VICTIMAS</th>\n",
       "      <th>FECHA</th>\n",
       "      <th>AAAA</th>\n",
       "      <th>MM</th>\n",
       "      <th>DD</th>\n",
       "      <th>HORA</th>\n",
       "      <th>HH</th>\n",
       "      <th>LUGAR_DEL_HECHO</th>\n",
       "      <th>TIPO_DE_CALLE</th>\n",
       "      <th>...</th>\n",
       "      <th>Altura</th>\n",
       "      <th>Cruce</th>\n",
       "      <th>Dirección Normalizada</th>\n",
       "      <th>COMUNA</th>\n",
       "      <th>XY (CABA)</th>\n",
       "      <th>pos x</th>\n",
       "      <th>pos y</th>\n",
       "      <th>PARTICIPANTES</th>\n",
       "      <th>VICTIMA</th>\n",
       "      <th>ACUSADO</th>\n",
       "    </tr>\n",
       "  </thead>\n",
       "  <tbody>\n",
       "    <tr>\n",
       "      <th>0</th>\n",
       "      <td>2016-0001</td>\n",
       "      <td>1</td>\n",
       "      <td>2016-01-01</td>\n",
       "      <td>2016</td>\n",
       "      <td>1</td>\n",
       "      <td>1</td>\n",
       "      <td>04:00:00</td>\n",
       "      <td>4</td>\n",
       "      <td>AV PIEDRA BUENA Y AV FERNANDEZ DE LA CRUZ</td>\n",
       "      <td>AVENIDA</td>\n",
       "      <td>...</td>\n",
       "      <td>NaN</td>\n",
       "      <td>FERNANDEZ DE LA CRUZ, F., GRAL. AV.</td>\n",
       "      <td>PIEDRA BUENA AV. y FERNANDEZ DE LA CRUZ, F., G...</td>\n",
       "      <td>8</td>\n",
       "      <td>Point (98896.78238426 93532.43437792)</td>\n",
       "      <td>-58.47533969</td>\n",
       "      <td>-34.68757022</td>\n",
       "      <td>MOTO-AUTO</td>\n",
       "      <td>MOTO</td>\n",
       "      <td>AUTO</td>\n",
       "    </tr>\n",
       "    <tr>\n",
       "      <th>1</th>\n",
       "      <td>2016-0002</td>\n",
       "      <td>1</td>\n",
       "      <td>2016-01-02</td>\n",
       "      <td>2016</td>\n",
       "      <td>1</td>\n",
       "      <td>2</td>\n",
       "      <td>01:15:00</td>\n",
       "      <td>1</td>\n",
       "      <td>AV GRAL PAZ  Y AV DE LOS CORRALES</td>\n",
       "      <td>GRAL PAZ</td>\n",
       "      <td>...</td>\n",
       "      <td>NaN</td>\n",
       "      <td>DE LOS CORRALES AV.</td>\n",
       "      <td>PAZ, GRAL. AV. y DE LOS CORRALES AV.</td>\n",
       "      <td>9</td>\n",
       "      <td>Point (95832.05571093 95505.41641999)</td>\n",
       "      <td>-58.50877521</td>\n",
       "      <td>-34.66977709</td>\n",
       "      <td>AUTO-PASAJEROS</td>\n",
       "      <td>AUTO</td>\n",
       "      <td>PASAJEROS</td>\n",
       "    </tr>\n",
       "    <tr>\n",
       "      <th>2</th>\n",
       "      <td>2016-0003</td>\n",
       "      <td>1</td>\n",
       "      <td>2016-01-03</td>\n",
       "      <td>2016</td>\n",
       "      <td>1</td>\n",
       "      <td>3</td>\n",
       "      <td>07:00:00</td>\n",
       "      <td>7</td>\n",
       "      <td>AV ENTRE RIOS 2034</td>\n",
       "      <td>AVENIDA</td>\n",
       "      <td>...</td>\n",
       "      <td>2034.0</td>\n",
       "      <td>NaN</td>\n",
       "      <td>ENTRE RIOS AV. 2034</td>\n",
       "      <td>1</td>\n",
       "      <td>Point (106684.29090040 99706.57687843)</td>\n",
       "      <td>-58.39040293</td>\n",
       "      <td>-34.63189362</td>\n",
       "      <td>MOTO-AUTO</td>\n",
       "      <td>MOTO</td>\n",
       "      <td>AUTO</td>\n",
       "    </tr>\n",
       "    <tr>\n",
       "      <th>3</th>\n",
       "      <td>2016-0004</td>\n",
       "      <td>1</td>\n",
       "      <td>2016-01-10</td>\n",
       "      <td>2016</td>\n",
       "      <td>1</td>\n",
       "      <td>10</td>\n",
       "      <td>00:00:00</td>\n",
       "      <td>0</td>\n",
       "      <td>AV LARRAZABAL Y GRAL VILLEGAS CONRADO</td>\n",
       "      <td>AVENIDA</td>\n",
       "      <td>...</td>\n",
       "      <td>NaN</td>\n",
       "      <td>VILLEGAS, CONRADO, GRAL.</td>\n",
       "      <td>LARRAZABAL AV. y VILLEGAS, CONRADO, GRAL.</td>\n",
       "      <td>8</td>\n",
       "      <td>Point (99840.65224780 94269.16534422)</td>\n",
       "      <td>-58.46503904</td>\n",
       "      <td>-34.68092974</td>\n",
       "      <td>MOTO-SD</td>\n",
       "      <td>MOTO</td>\n",
       "      <td>SD</td>\n",
       "    </tr>\n",
       "    <tr>\n",
       "      <th>4</th>\n",
       "      <td>2016-0005</td>\n",
       "      <td>1</td>\n",
       "      <td>2016-01-21</td>\n",
       "      <td>2016</td>\n",
       "      <td>1</td>\n",
       "      <td>21</td>\n",
       "      <td>05:20:00</td>\n",
       "      <td>5</td>\n",
       "      <td>AV SAN JUAN Y PRESIDENTE LUIS SAENZ PEÑA</td>\n",
       "      <td>AVENIDA</td>\n",
       "      <td>...</td>\n",
       "      <td>NaN</td>\n",
       "      <td>SAENZ PEÑA, LUIS, PRES.</td>\n",
       "      <td>SAN JUAN AV. y SAENZ PEÑA, LUIS, PRES.</td>\n",
       "      <td>1</td>\n",
       "      <td>Point (106980.32827929 100752.16915795)</td>\n",
       "      <td>-58.38718297</td>\n",
       "      <td>-34.62246630</td>\n",
       "      <td>MOTO-PASAJEROS</td>\n",
       "      <td>MOTO</td>\n",
       "      <td>PASAJEROS</td>\n",
       "    </tr>\n",
       "  </tbody>\n",
       "</table>\n",
       "<p>5 rows × 21 columns</p>\n",
       "</div>"
      ],
      "text/plain": [
       "          ID  N_VICTIMAS      FECHA  AAAA  MM  DD      HORA HH  \\\n",
       "0  2016-0001           1 2016-01-01  2016   1   1  04:00:00  4   \n",
       "1  2016-0002           1 2016-01-02  2016   1   2  01:15:00  1   \n",
       "2  2016-0003           1 2016-01-03  2016   1   3  07:00:00  7   \n",
       "3  2016-0004           1 2016-01-10  2016   1  10  00:00:00  0   \n",
       "4  2016-0005           1 2016-01-21  2016   1  21  05:20:00  5   \n",
       "\n",
       "                             LUGAR_DEL_HECHO TIPO_DE_CALLE  ...  Altura  \\\n",
       "0  AV PIEDRA BUENA Y AV FERNANDEZ DE LA CRUZ       AVENIDA  ...     NaN   \n",
       "1          AV GRAL PAZ  Y AV DE LOS CORRALES      GRAL PAZ  ...     NaN   \n",
       "2                         AV ENTRE RIOS 2034       AVENIDA  ...  2034.0   \n",
       "3      AV LARRAZABAL Y GRAL VILLEGAS CONRADO       AVENIDA  ...     NaN   \n",
       "4  AV SAN JUAN Y PRESIDENTE LUIS SAENZ PEÑA        AVENIDA  ...     NaN   \n",
       "\n",
       "                                 Cruce  \\\n",
       "0  FERNANDEZ DE LA CRUZ, F., GRAL. AV.   \n",
       "1                  DE LOS CORRALES AV.   \n",
       "2                                  NaN   \n",
       "3             VILLEGAS, CONRADO, GRAL.   \n",
       "4              SAENZ PEÑA, LUIS, PRES.   \n",
       "\n",
       "                               Dirección Normalizada COMUNA  \\\n",
       "0  PIEDRA BUENA AV. y FERNANDEZ DE LA CRUZ, F., G...      8   \n",
       "1               PAZ, GRAL. AV. y DE LOS CORRALES AV.      9   \n",
       "2                                ENTRE RIOS AV. 2034      1   \n",
       "3          LARRAZABAL AV. y VILLEGAS, CONRADO, GRAL.      8   \n",
       "4             SAN JUAN AV. y SAENZ PEÑA, LUIS, PRES.      1   \n",
       "\n",
       "                                 XY (CABA)         pos x         pos y  \\\n",
       "0    Point (98896.78238426 93532.43437792)  -58.47533969  -34.68757022   \n",
       "1    Point (95832.05571093 95505.41641999)  -58.50877521  -34.66977709   \n",
       "2   Point (106684.29090040 99706.57687843)  -58.39040293  -34.63189362   \n",
       "3    Point (99840.65224780 94269.16534422)  -58.46503904  -34.68092974   \n",
       "4  Point (106980.32827929 100752.16915795)  -58.38718297  -34.62246630   \n",
       "\n",
       "    PARTICIPANTES VICTIMA    ACUSADO  \n",
       "0       MOTO-AUTO    MOTO       AUTO  \n",
       "1  AUTO-PASAJEROS    AUTO  PASAJEROS  \n",
       "2       MOTO-AUTO    MOTO       AUTO  \n",
       "3         MOTO-SD    MOTO         SD  \n",
       "4  MOTO-PASAJEROS    MOTO  PASAJEROS  \n",
       "\n",
       "[5 rows x 21 columns]"
      ]
     },
     "execution_count": 138,
     "metadata": {},
     "output_type": "execute_result"
    }
   ],
   "source": [
    "homicidios_df.head()"
   ]
  },
  {
   "cell_type": "code",
   "execution_count": 139,
   "metadata": {},
   "outputs": [
    {
     "name": "stdout",
     "output_type": "stream",
     "text": [
      "<class 'pandas.core.frame.DataFrame'>\n",
      "RangeIndex: 696 entries, 0 to 695\n",
      "Data columns (total 21 columns):\n",
      " #   Column                 Non-Null Count  Dtype         \n",
      "---  ------                 --------------  -----         \n",
      " 0   ID                     696 non-null    object        \n",
      " 1   N_VICTIMAS             696 non-null    int64         \n",
      " 2   FECHA                  696 non-null    datetime64[ns]\n",
      " 3   AAAA                   696 non-null    int64         \n",
      " 4   MM                     696 non-null    int64         \n",
      " 5   DD                     696 non-null    int64         \n",
      " 6   HORA                   696 non-null    object        \n",
      " 7   HH                     696 non-null    object        \n",
      " 8   LUGAR_DEL_HECHO        696 non-null    object        \n",
      " 9   TIPO_DE_CALLE          696 non-null    object        \n",
      " 10  Calle                  695 non-null    object        \n",
      " 11  Altura                 129 non-null    float64       \n",
      " 12  Cruce                  525 non-null    object        \n",
      " 13  Dirección Normalizada  688 non-null    object        \n",
      " 14  COMUNA                 696 non-null    int64         \n",
      " 15  XY (CABA)              696 non-null    object        \n",
      " 16  pos x                  696 non-null    object        \n",
      " 17  pos y                  696 non-null    object        \n",
      " 18  PARTICIPANTES          696 non-null    object        \n",
      " 19  VICTIMA                696 non-null    object        \n",
      " 20  ACUSADO                696 non-null    object        \n",
      "dtypes: datetime64[ns](1), float64(1), int64(5), object(14)\n",
      "memory usage: 114.3+ KB\n"
     ]
    }
   ],
   "source": [
    "homicidios_df.info()"
   ]
  },
  {
   "cell_type": "code",
   "execution_count": 140,
   "metadata": {},
   "outputs": [],
   "source": [
    "homicidios_df['Altura'] = homicidios_df['Altura'].astype(object)"
   ]
  },
  {
   "cell_type": "code",
   "execution_count": 141,
   "metadata": {},
   "outputs": [],
   "source": [
    "homicidios_df['TIPO_DE_CALLE'] = homicidios_df['TIPO_DE_CALLE'].astype('category')"
   ]
  },
  {
   "cell_type": "code",
   "execution_count": 142,
   "metadata": {},
   "outputs": [],
   "source": [
    "homicidios_df['ACUSADO'] = homicidios_df['ACUSADO'].astype('category')\n",
    "homicidios_df['VICTIMA'] = homicidios_df['VICTIMA'].astype('category')"
   ]
  },
  {
   "cell_type": "markdown",
   "metadata": {},
   "source": [
    "Podemos observar que los tipos datos en las columnas son las correspondientes al tipo de dato que contienen"
   ]
  },
  {
   "cell_type": "markdown",
   "metadata": {},
   "source": [
    "## 1.3 Valores nulos"
   ]
  },
  {
   "cell_type": "code",
   "execution_count": 143,
   "metadata": {},
   "outputs": [],
   "source": [
    "null_counts = homicidios_df.isnull().sum()"
   ]
  },
  {
   "cell_type": "code",
   "execution_count": 144,
   "metadata": {},
   "outputs": [
    {
     "data": {
      "image/png": "[encoded data removed]",
      "text/plain": [
       "<Figure size 1000x600 with 1 Axes>"
      ]
     },
     "metadata": {},
     "output_type": "display_data"
    }
   ],
   "source": [
    "plt.figure(figsize=(10, 6))\n",
    "null_counts.plot(kind='bar', color='skyblue')\n",
    "plt.title('Valores Nulos por Columna')\n",
    "plt.xlabel('Columnas')\n",
    "plt.ylabel('Cantidad de Valores Nulos')\n",
    "plt.xticks(rotation=45, ha='right')\n",
    "plt.tight_layout()\n",
    "plt.show()"
   ]
  },
  {
   "cell_type": "code",
   "execution_count": 145,
   "metadata": {},
   "outputs": [],
   "source": [
    "homicidios_df.loc[homicidios_df['Altura'].isna(), 'Altura'] = 'SD'"
   ]
  },
  {
   "cell_type": "code",
   "execution_count": 146,
   "metadata": {},
   "outputs": [],
   "source": [
    "homicidios_df.loc[homicidios_df['Dirección Normalizada'].isna(), 'Dirección Normalizada'] = 'SD'"
   ]
  },
  {
   "cell_type": "code",
   "execution_count": 147,
   "metadata": {},
   "outputs": [],
   "source": [
    "homicidios_df.loc[homicidios_df['Cruce'].isna(), 'Cruce'] = 'SD'"
   ]
  },
  {
   "cell_type": "code",
   "execution_count": 148,
   "metadata": {},
   "outputs": [],
   "source": [
    "homicidios_df.loc[homicidios_df['Calle'].isna(), 'Calle'] = 'SD'"
   ]
  },
  {
   "cell_type": "markdown",
   "metadata": {},
   "source": [
    "Rellanamos nulos con 'SD'"
   ]
  },
  {
   "cell_type": "markdown",
   "metadata": {},
   "source": [
    "## 1.4 Registros duplicados"
   ]
  },
  {
   "cell_type": "code",
   "execution_count": 149,
   "metadata": {},
   "outputs": [
    {
     "data": {
      "text/plain": [
       "False    696\n",
       "Name: count, dtype: int64"
      ]
     },
     "execution_count": 149,
     "metadata": {},
     "output_type": "execute_result"
    }
   ],
   "source": [
    "homicidios_df.duplicated().value_counts()"
   ]
  },
  {
   "cell_type": "markdown",
   "metadata": {},
   "source": [
    "Comprobamos si hay registros duplicados y no encontramos ninguno"
   ]
  },
  {
   "cell_type": "markdown",
   "metadata": {},
   "source": [
    "## 1.4 Analisis columna por columna"
   ]
  },
  {
   "cell_type": "markdown",
   "metadata": {},
   "source": [
    "### 1.4.1 ```ID```"
   ]
  },
  {
   "cell_type": "code",
   "execution_count": 150,
   "metadata": {},
   "outputs": [
    {
     "data": {
      "text/plain": [
       "0    2016-0001\n",
       "1    2016-0002\n",
       "2    2016-0003\n",
       "3    2016-0004\n",
       "4    2016-0005\n",
       "5    2016-0008\n",
       "6    2016-0009\n",
       "7    2016-0010\n",
       "8    2016-0012\n",
       "9    2016-0013\n",
       "Name: ID, dtype: object"
      ]
     },
     "execution_count": 150,
     "metadata": {},
     "output_type": "execute_result"
    }
   ],
   "source": [
    "homicidios_df['ID'].head(10)"
   ]
  },
  {
   "cell_type": "code",
   "execution_count": 151,
   "metadata": {},
   "outputs": [],
   "source": [
    "homicidios_df.set_index(pd.Index(range(1000, 1000 + len(homicidios_df))), inplace=True)\n",
    "homicidios_df.rename_axis('ID', inplace=True)"
   ]
  },
  {
   "cell_type": "markdown",
   "metadata": {},
   "source": [
    "Creamos un nuevo indece que funcione como identificador unico y que empiece en el valor 1000"
   ]
  },
  {
   "cell_type": "code",
   "execution_count": 152,
   "metadata": {},
   "outputs": [
    {
     "data": {
      "text/plain": [
       "ID\n",
       "False    696\n",
       "Name: count, dtype: int64"
      ]
     },
     "execution_count": 152,
     "metadata": {},
     "output_type": "execute_result"
    }
   ],
   "source": [
    "homicidios_df['ID'].duplicated().value_counts()"
   ]
  },
  {
   "cell_type": "code",
   "execution_count": 153,
   "metadata": {},
   "outputs": [],
   "source": [
    "homicidios_df.drop(columns='ID', inplace=True)"
   ]
  },
  {
   "cell_type": "markdown",
   "metadata": {},
   "source": [
    "Verificamos si hay duplicados y eliminamos la columna que funcionaba como indentificador antes del cambio"
   ]
  },
  {
   "cell_type": "markdown",
   "metadata": {},
   "source": [
    "### 1.4.2 ```FECHA``` y ```HORA```"
   ]
  },
  {
   "cell_type": "code",
   "execution_count": 154,
   "metadata": {},
   "outputs": [],
   "source": [
    "\n",
    "def combinar_fecha_y_hora(df, columna_fecha, columna_hora, nueva_columna):\n",
    "    \"\"\"\n",
    "    Función para combinar una columna de fecha y una columna de hora en una nueva columna de tipo datetime64.\n",
    "    \n",
    "    Parámetros:\n",
    "        - df: DataFrame de pandas.\n",
    "        - columna_fecha: Nombre de la columna que contiene las fechas.\n",
    "        - columna_hora: Nombre de la columna que contiene las horas.\n",
    "        - nueva_columna: Nombre de la nueva columna que se creará para combinar fecha y hora.\n",
    "        \n",
    "    Retorna:\n",
    "        El DataFrame original con la nueva columna añadida.\n",
    "    \"\"\"\n",
    "\n",
    "    # Combina la fecha y la hora en una nueva columna\n",
    "    df[nueva_columna] = pd.to_datetime(df[columna_fecha].astype(str) + ' ' + df[columna_hora].astype(str), errors='coerce')\n",
    "    \n",
    "    return df"
   ]
  },
  {
   "cell_type": "code",
   "execution_count": 155,
   "metadata": {},
   "outputs": [
    {
     "data": {
      "text/html": [
       "<div>\n",
       "<style scoped>\n",
       "    .dataframe tbody tr th:only-of-type {\n",
       "        vertical-align: middle;\n",
       "    }\n",
       "\n",
       "    .dataframe tbody tr th {\n",
       "        vertical-align: top;\n",
       "    }\n",
       "\n",
       "    .dataframe thead th {\n",
       "        text-align: right;\n",
       "    }\n",
       "</style>\n",
       "<table border=\"1\" class=\"dataframe\">\n",
       "  <thead>\n",
       "    <tr style=\"text-align: right;\">\n",
       "      <th></th>\n",
       "      <th>N_VICTIMAS</th>\n",
       "      <th>FECHA</th>\n",
       "      <th>AAAA</th>\n",
       "      <th>MM</th>\n",
       "      <th>DD</th>\n",
       "      <th>HORA</th>\n",
       "      <th>HH</th>\n",
       "      <th>LUGAR_DEL_HECHO</th>\n",
       "      <th>TIPO_DE_CALLE</th>\n",
       "      <th>Calle</th>\n",
       "      <th>...</th>\n",
       "      <th>Cruce</th>\n",
       "      <th>Dirección Normalizada</th>\n",
       "      <th>COMUNA</th>\n",
       "      <th>XY (CABA)</th>\n",
       "      <th>pos x</th>\n",
       "      <th>pos y</th>\n",
       "      <th>PARTICIPANTES</th>\n",
       "      <th>VICTIMA</th>\n",
       "      <th>ACUSADO</th>\n",
       "      <th>FECHA_Y_HORA</th>\n",
       "    </tr>\n",
       "    <tr>\n",
       "      <th>ID</th>\n",
       "      <th></th>\n",
       "      <th></th>\n",
       "      <th></th>\n",
       "      <th></th>\n",
       "      <th></th>\n",
       "      <th></th>\n",
       "      <th></th>\n",
       "      <th></th>\n",
       "      <th></th>\n",
       "      <th></th>\n",
       "      <th></th>\n",
       "      <th></th>\n",
       "      <th></th>\n",
       "      <th></th>\n",
       "      <th></th>\n",
       "      <th></th>\n",
       "      <th></th>\n",
       "      <th></th>\n",
       "      <th></th>\n",
       "      <th></th>\n",
       "      <th></th>\n",
       "    </tr>\n",
       "  </thead>\n",
       "  <tbody>\n",
       "    <tr>\n",
       "      <th>1000</th>\n",
       "      <td>1</td>\n",
       "      <td>2016-01-01</td>\n",
       "      <td>2016</td>\n",
       "      <td>1</td>\n",
       "      <td>1</td>\n",
       "      <td>04:00:00</td>\n",
       "      <td>4</td>\n",
       "      <td>AV PIEDRA BUENA Y AV FERNANDEZ DE LA CRUZ</td>\n",
       "      <td>AVENIDA</td>\n",
       "      <td>PIEDRA BUENA AV.</td>\n",
       "      <td>...</td>\n",
       "      <td>FERNANDEZ DE LA CRUZ, F., GRAL. AV.</td>\n",
       "      <td>PIEDRA BUENA AV. y FERNANDEZ DE LA CRUZ, F., G...</td>\n",
       "      <td>8</td>\n",
       "      <td>Point (98896.78238426 93532.43437792)</td>\n",
       "      <td>-58.47533969</td>\n",
       "      <td>-34.68757022</td>\n",
       "      <td>MOTO-AUTO</td>\n",
       "      <td>MOTO</td>\n",
       "      <td>AUTO</td>\n",
       "      <td>2016-01-01 04:00:00</td>\n",
       "    </tr>\n",
       "    <tr>\n",
       "      <th>1001</th>\n",
       "      <td>1</td>\n",
       "      <td>2016-01-02</td>\n",
       "      <td>2016</td>\n",
       "      <td>1</td>\n",
       "      <td>2</td>\n",
       "      <td>01:15:00</td>\n",
       "      <td>1</td>\n",
       "      <td>AV GRAL PAZ  Y AV DE LOS CORRALES</td>\n",
       "      <td>GRAL PAZ</td>\n",
       "      <td>PAZ, GRAL. AV.</td>\n",
       "      <td>...</td>\n",
       "      <td>DE LOS CORRALES AV.</td>\n",
       "      <td>PAZ, GRAL. AV. y DE LOS CORRALES AV.</td>\n",
       "      <td>9</td>\n",
       "      <td>Point (95832.05571093 95505.41641999)</td>\n",
       "      <td>-58.50877521</td>\n",
       "      <td>-34.66977709</td>\n",
       "      <td>AUTO-PASAJEROS</td>\n",
       "      <td>AUTO</td>\n",
       "      <td>PASAJEROS</td>\n",
       "      <td>2016-01-02 01:15:00</td>\n",
       "    </tr>\n",
       "    <tr>\n",
       "      <th>1002</th>\n",
       "      <td>1</td>\n",
       "      <td>2016-01-03</td>\n",
       "      <td>2016</td>\n",
       "      <td>1</td>\n",
       "      <td>3</td>\n",
       "      <td>07:00:00</td>\n",
       "      <td>7</td>\n",
       "      <td>AV ENTRE RIOS 2034</td>\n",
       "      <td>AVENIDA</td>\n",
       "      <td>ENTRE RIOS AV.</td>\n",
       "      <td>...</td>\n",
       "      <td>SD</td>\n",
       "      <td>ENTRE RIOS AV. 2034</td>\n",
       "      <td>1</td>\n",
       "      <td>Point (106684.29090040 99706.57687843)</td>\n",
       "      <td>-58.39040293</td>\n",
       "      <td>-34.63189362</td>\n",
       "      <td>MOTO-AUTO</td>\n",
       "      <td>MOTO</td>\n",
       "      <td>AUTO</td>\n",
       "      <td>2016-01-03 07:00:00</td>\n",
       "    </tr>\n",
       "    <tr>\n",
       "      <th>1003</th>\n",
       "      <td>1</td>\n",
       "      <td>2016-01-10</td>\n",
       "      <td>2016</td>\n",
       "      <td>1</td>\n",
       "      <td>10</td>\n",
       "      <td>00:00:00</td>\n",
       "      <td>0</td>\n",
       "      <td>AV LARRAZABAL Y GRAL VILLEGAS CONRADO</td>\n",
       "      <td>AVENIDA</td>\n",
       "      <td>LARRAZABAL AV.</td>\n",
       "      <td>...</td>\n",
       "      <td>VILLEGAS, CONRADO, GRAL.</td>\n",
       "      <td>LARRAZABAL AV. y VILLEGAS, CONRADO, GRAL.</td>\n",
       "      <td>8</td>\n",
       "      <td>Point (99840.65224780 94269.16534422)</td>\n",
       "      <td>-58.46503904</td>\n",
       "      <td>-34.68092974</td>\n",
       "      <td>MOTO-SD</td>\n",
       "      <td>MOTO</td>\n",
       "      <td>SD</td>\n",
       "      <td>2016-01-10 00:00:00</td>\n",
       "    </tr>\n",
       "    <tr>\n",
       "      <th>1004</th>\n",
       "      <td>1</td>\n",
       "      <td>2016-01-21</td>\n",
       "      <td>2016</td>\n",
       "      <td>1</td>\n",
       "      <td>21</td>\n",
       "      <td>05:20:00</td>\n",
       "      <td>5</td>\n",
       "      <td>AV SAN JUAN Y PRESIDENTE LUIS SAENZ PEÑA</td>\n",
       "      <td>AVENIDA</td>\n",
       "      <td>SAN JUAN AV.</td>\n",
       "      <td>...</td>\n",
       "      <td>SAENZ PEÑA, LUIS, PRES.</td>\n",
       "      <td>SAN JUAN AV. y SAENZ PEÑA, LUIS, PRES.</td>\n",
       "      <td>1</td>\n",
       "      <td>Point (106980.32827929 100752.16915795)</td>\n",
       "      <td>-58.38718297</td>\n",
       "      <td>-34.62246630</td>\n",
       "      <td>MOTO-PASAJEROS</td>\n",
       "      <td>MOTO</td>\n",
       "      <td>PASAJEROS</td>\n",
       "      <td>2016-01-21 05:20:00</td>\n",
       "    </tr>\n",
       "  </tbody>\n",
       "</table>\n",
       "<p>5 rows × 21 columns</p>\n",
       "</div>"
      ],
      "text/plain": [
       "      N_VICTIMAS      FECHA  AAAA  MM  DD      HORA HH  \\\n",
       "ID                                                       \n",
       "1000           1 2016-01-01  2016   1   1  04:00:00  4   \n",
       "1001           1 2016-01-02  2016   1   2  01:15:00  1   \n",
       "1002           1 2016-01-03  2016   1   3  07:00:00  7   \n",
       "1003           1 2016-01-10  2016   1  10  00:00:00  0   \n",
       "1004           1 2016-01-21  2016   1  21  05:20:00  5   \n",
       "\n",
       "                                LUGAR_DEL_HECHO TIPO_DE_CALLE  \\\n",
       "ID                                                              \n",
       "1000  AV PIEDRA BUENA Y AV FERNANDEZ DE LA CRUZ       AVENIDA   \n",
       "1001          AV GRAL PAZ  Y AV DE LOS CORRALES      GRAL PAZ   \n",
       "1002                         AV ENTRE RIOS 2034       AVENIDA   \n",
       "1003      AV LARRAZABAL Y GRAL VILLEGAS CONRADO       AVENIDA   \n",
       "1004  AV SAN JUAN Y PRESIDENTE LUIS SAENZ PEÑA        AVENIDA   \n",
       "\n",
       "                 Calle  ...                                Cruce  \\\n",
       "ID                      ...                                        \n",
       "1000  PIEDRA BUENA AV.  ...  FERNANDEZ DE LA CRUZ, F., GRAL. AV.   \n",
       "1001    PAZ, GRAL. AV.  ...                  DE LOS CORRALES AV.   \n",
       "1002    ENTRE RIOS AV.  ...                                   SD   \n",
       "1003    LARRAZABAL AV.  ...             VILLEGAS, CONRADO, GRAL.   \n",
       "1004      SAN JUAN AV.  ...              SAENZ PEÑA, LUIS, PRES.   \n",
       "\n",
       "                                  Dirección Normalizada COMUNA  \\\n",
       "ID                                                               \n",
       "1000  PIEDRA BUENA AV. y FERNANDEZ DE LA CRUZ, F., G...      8   \n",
       "1001               PAZ, GRAL. AV. y DE LOS CORRALES AV.      9   \n",
       "1002                                ENTRE RIOS AV. 2034      1   \n",
       "1003          LARRAZABAL AV. y VILLEGAS, CONRADO, GRAL.      8   \n",
       "1004             SAN JUAN AV. y SAENZ PEÑA, LUIS, PRES.      1   \n",
       "\n",
       "                                    XY (CABA)         pos x         pos y  \\\n",
       "ID                                                                          \n",
       "1000    Point (98896.78238426 93532.43437792)  -58.47533969  -34.68757022   \n",
       "1001    Point (95832.05571093 95505.41641999)  -58.50877521  -34.66977709   \n",
       "1002   Point (106684.29090040 99706.57687843)  -58.39040293  -34.63189362   \n",
       "1003    Point (99840.65224780 94269.16534422)  -58.46503904  -34.68092974   \n",
       "1004  Point (106980.32827929 100752.16915795)  -58.38718297  -34.62246630   \n",
       "\n",
       "       PARTICIPANTES VICTIMA    ACUSADO        FECHA_Y_HORA  \n",
       "ID                                                           \n",
       "1000       MOTO-AUTO    MOTO       AUTO 2016-01-01 04:00:00  \n",
       "1001  AUTO-PASAJEROS    AUTO  PASAJEROS 2016-01-02 01:15:00  \n",
       "1002       MOTO-AUTO    MOTO       AUTO 2016-01-03 07:00:00  \n",
       "1003         MOTO-SD    MOTO         SD 2016-01-10 00:00:00  \n",
       "1004  MOTO-PASAJEROS    MOTO  PASAJEROS 2016-01-21 05:20:00  \n",
       "\n",
       "[5 rows x 21 columns]"
      ]
     },
     "execution_count": 155,
     "metadata": {},
     "output_type": "execute_result"
    }
   ],
   "source": [
    "combinar_fecha_y_hora(homicidios_df, 'FECHA', 'HORA', 'FECHA_Y_HORA').head()"
   ]
  },
  {
   "cell_type": "markdown",
   "metadata": {},
   "source": [
    "Combinamos la columna ```FECHA``` y ```HORA``` en una nueva llamada ```FECHA_Y_HORA```"
   ]
  },
  {
   "cell_type": "code",
   "execution_count": 156,
   "metadata": {},
   "outputs": [],
   "source": [
    "homicidios_df.drop(columns=['AAAA', 'MM', 'DD', 'HH', 'FECHA', 'HORA'], inplace=True)"
   ]
  },
  {
   "cell_type": "markdown",
   "metadata": {},
   "source": [
    "Eliminamos columnas redundantes"
   ]
  },
  {
   "cell_type": "markdown",
   "metadata": {},
   "source": [
    "### 1.4.3 ```LUGAR_DEL_HECHO```, ```TIPO_DE_CALLE``` y ```Calle```"
   ]
  },
  {
   "cell_type": "code",
   "execution_count": 157,
   "metadata": {},
   "outputs": [],
   "source": [
    "homicidios_df.drop(columns=['Dirección Normalizada', 'Cruce', 'Altura', 'Calle'], inplace=True)"
   ]
  },
  {
   "cell_type": "markdown",
   "metadata": {},
   "source": [
    "Eliminamos columnas redundantes"
   ]
  },
  {
   "cell_type": "code",
   "execution_count": 158,
   "metadata": {},
   "outputs": [
    {
     "data": {
      "text/plain": [
       "TIPO_DE_CALLE\n",
       "AVENIDA      429\n",
       "CALLE        136\n",
       "AUTOPISTA     66\n",
       "GRAL PAZ      65\n",
       "Name: count, dtype: int64"
      ]
     },
     "execution_count": 158,
     "metadata": {},
     "output_type": "execute_result"
    }
   ],
   "source": [
    "homicidios_df['TIPO_DE_CALLE'].value_counts()"
   ]
  },
  {
   "cell_type": "code",
   "execution_count": 159,
   "metadata": {},
   "outputs": [],
   "source": [
    "homicidios_df.loc[homicidios_df['TIPO_DE_CALLE'] == 'GRAL PAZ', 'TIPO_DE_CALLE'] = 'AUTOPISTA'"
   ]
  },
  {
   "cell_type": "markdown",
   "metadata": {},
   "source": [
    "Corregimos valores ya que 'la Gral. Paz' es una autopista"
   ]
  },
  {
   "cell_type": "markdown",
   "metadata": {},
   "source": [
    "### 1.4.4 ```XY(CABA)```, ```pos x``` y ```pos y```"
   ]
  },
  {
   "cell_type": "code",
   "execution_count": 160,
   "metadata": {},
   "outputs": [],
   "source": [
    "homicidios_df.drop(columns='XY (CABA)', inplace=True)"
   ]
  },
  {
   "cell_type": "code",
   "execution_count": 161,
   "metadata": {},
   "outputs": [],
   "source": [
    "homicidios_df.rename(columns={'pos x': 'LONGITUD'}, inplace=True)\n",
    "homicidios_df.rename(columns={'pos y': 'LATITUD'}, inplace=True)"
   ]
  },
  {
   "cell_type": "code",
   "execution_count": 162,
   "metadata": {},
   "outputs": [],
   "source": [
    "homicidios_df.drop(1139, inplace=True)\n",
    "homicidios_df.drop(1119, inplace=True)"
   ]
  },
  {
   "cell_type": "markdown",
   "metadata": {},
   "source": [
    "Elimino registros vacios"
   ]
  },
  {
   "cell_type": "code",
   "execution_count": 163,
   "metadata": {},
   "outputs": [],
   "source": [
    "def rellenar_lat_long(df):\n",
    "    # Crear un diccionario de comuna a índices de registros\n",
    "    indices_por_comuna = {}\n",
    "    for i, row in df.iterrows():\n",
    "        comuna = row['COMUNA']\n",
    "        if comuna not in indices_por_comuna:\n",
    "            indices_por_comuna[comuna] = []\n",
    "        indices_por_comuna[comuna].append(i)\n",
    "    \n",
    "    # Iterar sobre los registros y rellenar las latitudes y longitudes faltantes\n",
    "    for i, row in df.iterrows():\n",
    "        latitud = row['LATITUD']\n",
    "        longitud = row['LONGITUD']\n",
    "        comuna = row['COMUNA']\n",
    "        \n",
    "        # Si la latitud o la longitud son \".\", encontrar un registro aleatorio en la misma comuna y tomar sus valores\n",
    "        if latitud == '.' or longitud == '.':\n",
    "            indices_comuna = indices_por_comuna[comuna]\n",
    "            registro_aleatorio = df.loc[np.random.choice(indices_comuna)]\n",
    "            if latitud == '.':\n",
    "                latitud = registro_aleatorio['LATITUD']\n",
    "            if longitud == '.':\n",
    "                longitud = registro_aleatorio['LONGITUD']\n",
    "        \n",
    "        # Asignar los nuevos valores de latitud y longitud al DataFrame\n",
    "        df.at[i, 'LATITUD'] = latitud\n",
    "        df.at[i, 'LONGITUD'] = longitud\n",
    "    \n",
    "    return df"
   ]
  },
  {
   "cell_type": "markdown",
   "metadata": {},
   "source": [
    "Esto llenará los valores de latitud y longitud faltantes con valores aleatorios de la misma comuna"
   ]
  },
  {
   "cell_type": "code",
   "execution_count": 164,
   "metadata": {},
   "outputs": [],
   "source": [
    "homicidios_df = rellenar_lat_long(homicidios_df)"
   ]
  },
  {
   "cell_type": "code",
   "execution_count": 183,
   "metadata": {},
   "outputs": [
    {
     "data": {
      "text/html": [
       "<div>\n",
       "<style scoped>\n",
       "    .dataframe tbody tr th:only-of-type {\n",
       "        vertical-align: middle;\n",
       "    }\n",
       "\n",
       "    .dataframe tbody tr th {\n",
       "        vertical-align: top;\n",
       "    }\n",
       "\n",
       "    .dataframe thead th {\n",
       "        text-align: right;\n",
       "    }\n",
       "</style>\n",
       "<table border=\"1\" class=\"dataframe\">\n",
       "  <thead>\n",
       "    <tr style=\"text-align: right;\">\n",
       "      <th></th>\n",
       "      <th>N_VICTIMAS</th>\n",
       "      <th>LUGAR_DEL_HECHO</th>\n",
       "      <th>TIPO_DE_CALLE</th>\n",
       "      <th>COMUNA</th>\n",
       "      <th>LONGITUD</th>\n",
       "      <th>LATITUD</th>\n",
       "      <th>VICTIMA</th>\n",
       "      <th>ACUSADO</th>\n",
       "      <th>FECHA_Y_HORA</th>\n",
       "      <th>FATAL</th>\n",
       "    </tr>\n",
       "    <tr>\n",
       "      <th>ID</th>\n",
       "      <th></th>\n",
       "      <th></th>\n",
       "      <th></th>\n",
       "      <th></th>\n",
       "      <th></th>\n",
       "      <th></th>\n",
       "      <th></th>\n",
       "      <th></th>\n",
       "      <th></th>\n",
       "      <th></th>\n",
       "    </tr>\n",
       "  </thead>\n",
       "  <tbody>\n",
       "  </tbody>\n",
       "</table>\n",
       "</div>"
      ],
      "text/plain": [
       "Empty DataFrame\n",
       "Columns: [N_VICTIMAS, LUGAR_DEL_HECHO, TIPO_DE_CALLE, COMUNA, LONGITUD, LATITUD, VICTIMA, ACUSADO, FECHA_Y_HORA, FATAL]\n",
       "Index: []"
      ]
     },
     "execution_count": 183,
     "metadata": {},
     "output_type": "execute_result"
    }
   ],
   "source": [
    "homicidios_df[homicidios_df['LATITUD'] == \".\"]"
   ]
  },
  {
   "cell_type": "markdown",
   "metadata": {},
   "source": [
    "Corregimos el nombre de las columnas "
   ]
  },
  {
   "cell_type": "markdown",
   "metadata": {},
   "source": [
    "### 1.4.5 ```PARTICIPANTES```"
   ]
  },
  {
   "cell_type": "code",
   "execution_count": 165,
   "metadata": {},
   "outputs": [],
   "source": [
    "homicidios_df.drop(columns='PARTICIPANTES', inplace=True)"
   ]
  },
  {
   "cell_type": "code",
   "execution_count": 166,
   "metadata": {},
   "outputs": [
    {
     "name": "stdout",
     "output_type": "stream",
     "text": [
      "8\n",
      "21\n"
     ]
    }
   ],
   "source": [
    "# Imprimir la cantidad de 'SD'\n",
    "print((homicidios_df['VICTIMA'] == 'SD').sum())\n",
    "# Imprimir la cantidad de 'SD'\n",
    "print((homicidios_df['ACUSADO'] == 'SD').sum())"
   ]
  },
  {
   "cell_type": "markdown",
   "metadata": {},
   "source": [
    "Eliminamos columnas redundates"
   ]
  },
  {
   "cell_type": "code",
   "execution_count": 167,
   "metadata": {},
   "outputs": [
    {
     "data": {
      "text/plain": [
       "VICTIMA\n",
       "MOTO           295\n",
       "PEATON         263\n",
       "AUTO            83\n",
       "BICICLETA       29\n",
       "SD               8\n",
       "CARGAS           7\n",
       "PASAJEROS        5\n",
       "MOVIL            2\n",
       "OBJETO FIJO      1\n",
       "PEATON_MOTO      1\n",
       "Name: count, dtype: int64"
      ]
     },
     "execution_count": 167,
     "metadata": {},
     "output_type": "execute_result"
    }
   ],
   "source": [
    "homicidios_df['VICTIMA'].value_counts()"
   ]
  },
  {
   "cell_type": "code",
   "execution_count": 168,
   "metadata": {},
   "outputs": [
    {
     "name": "stderr",
     "output_type": "stream",
     "text": [
      "C:\\Users\\Luka\\AppData\\Local\\Temp\\ipykernel_1696\\720124344.py:4: FutureWarning: The behavior of Series.replace (and DataFrame.replace) with CategoricalDtype is deprecated. In a future version, replace will only be used for cases that preserve the categories. To change the categories, use ser.cat.rename_categories instead.\n",
      "  homicidios_df[\"VICTIMA\"] = homicidios_df[\"VICTIMA\"].replace(category_mapping)\n"
     ]
    }
   ],
   "source": [
    "# Definir el mapeo de categorías a cambiar\n",
    "category_mapping = {\"BICICLETA\": \"CICLISTA\", \"CARGAS\": \"CAMION\", \"PEATON_MOTO\": \"MOTO\", \"MOVIL\": \"AUTO\", \"PASAJEROS\": \"PEATON\"}\n",
    "# Reemplazar las categorías especificadas en la columna\n",
    "homicidios_df[\"VICTIMA\"] = homicidios_df[\"VICTIMA\"].replace(category_mapping)"
   ]
  },
  {
   "cell_type": "code",
   "execution_count": 169,
   "metadata": {},
   "outputs": [
    {
     "data": {
      "text/plain": [
       "ACUSADO\n",
       "AUTO           204\n",
       "PASAJEROS      173\n",
       "CARGAS         146\n",
       "OBJETO FIJO     62\n",
       "MOTO            57\n",
       "SD              21\n",
       "MULTIPLE        17\n",
       "BICICLETA        7\n",
       "OTRO             6\n",
       "TREN             1\n",
       "Name: count, dtype: int64"
      ]
     },
     "execution_count": 169,
     "metadata": {},
     "output_type": "execute_result"
    }
   ],
   "source": [
    "homicidios_df['ACUSADO'].value_counts()"
   ]
  },
  {
   "cell_type": "code",
   "execution_count": 170,
   "metadata": {},
   "outputs": [
    {
     "name": "stderr",
     "output_type": "stream",
     "text": [
      "C:\\Users\\Luka\\AppData\\Local\\Temp\\ipykernel_1696\\1858565178.py:4: FutureWarning: The behavior of Series.replace (and DataFrame.replace) with CategoricalDtype is deprecated. In a future version, replace will only be used for cases that preserve the categories. To change the categories, use ser.cat.rename_categories instead.\n",
      "  homicidios_df[\"ACUSADO\"] = homicidios_df[\"ACUSADO\"].replace(category_mapping)\n"
     ]
    }
   ],
   "source": [
    "# Definir el mapeo de categorías a cambiar\n",
    "category_mapping = {\"PASAJEROS\": \"PEATON\", \"CARGAS\": \"CAMION\", \"PEATON_MOTO\": \"MOTO\", \"MULTIPLE\": \"SD\", \"BICICLETA\": \"CICLISTA\", \"OTRO\": \"SD\", 'TREN': \"SD\"}\n",
    "# Reemplazar las categorías especificadas en la columna\n",
    "homicidios_df[\"ACUSADO\"] = homicidios_df[\"ACUSADO\"].replace(category_mapping)"
   ]
  },
  {
   "cell_type": "markdown",
   "metadata": {},
   "source": [
    "Arreglo valores categoricos"
   ]
  },
  {
   "cell_type": "markdown",
   "metadata": {},
   "source": [
    "### 1.4.6 ```FATAL```"
   ]
  },
  {
   "cell_type": "code",
   "execution_count": 171,
   "metadata": {},
   "outputs": [],
   "source": [
    "homicidios_df['FATAL'] = True"
   ]
  },
  {
   "cell_type": "markdown",
   "metadata": {},
   "source": [
    "Establecemos la columna `FATAL` en `True` ya que sabemos que los registros de estos siniestros tuvieron todos victimas mortales"
   ]
  },
  {
   "cell_type": "markdown",
   "metadata": {},
   "source": [
    "## 1.5 Guardar en csv"
   ]
  },
  {
   "cell_type": "code",
   "execution_count": 172,
   "metadata": {},
   "outputs": [],
   "source": [
    "homicidios_df.to_csv('../Archivos_csv/homicidios.csv')"
   ]
  },
  {
   "cell_type": "markdown",
   "metadata": {},
   "source": [
    "# 2 EDA"
   ]
  },
  {
   "cell_type": "code",
   "execution_count": 173,
   "metadata": {},
   "outputs": [
    {
     "data": {
      "text/html": [
       "<div>\n",
       "<style scoped>\n",
       "    .dataframe tbody tr th:only-of-type {\n",
       "        vertical-align: middle;\n",
       "    }\n",
       "\n",
       "    .dataframe tbody tr th {\n",
       "        vertical-align: top;\n",
       "    }\n",
       "\n",
       "    .dataframe thead th {\n",
       "        text-align: right;\n",
       "    }\n",
       "</style>\n",
       "<table border=\"1\" class=\"dataframe\">\n",
       "  <thead>\n",
       "    <tr style=\"text-align: right;\">\n",
       "      <th></th>\n",
       "      <th>N_VICTIMAS</th>\n",
       "      <th>LUGAR_DEL_HECHO</th>\n",
       "      <th>TIPO_DE_CALLE</th>\n",
       "      <th>COMUNA</th>\n",
       "      <th>LONGITUD</th>\n",
       "      <th>LATITUD</th>\n",
       "      <th>VICTIMA</th>\n",
       "      <th>ACUSADO</th>\n",
       "      <th>FECHA_Y_HORA</th>\n",
       "      <th>FATAL</th>\n",
       "    </tr>\n",
       "    <tr>\n",
       "      <th>ID</th>\n",
       "      <th></th>\n",
       "      <th></th>\n",
       "      <th></th>\n",
       "      <th></th>\n",
       "      <th></th>\n",
       "      <th></th>\n",
       "      <th></th>\n",
       "      <th></th>\n",
       "      <th></th>\n",
       "      <th></th>\n",
       "    </tr>\n",
       "  </thead>\n",
       "  <tbody>\n",
       "    <tr>\n",
       "      <th>1000</th>\n",
       "      <td>1</td>\n",
       "      <td>AV PIEDRA BUENA Y AV FERNANDEZ DE LA CRUZ</td>\n",
       "      <td>AVENIDA</td>\n",
       "      <td>8</td>\n",
       "      <td>-58.47533969</td>\n",
       "      <td>-34.68757022</td>\n",
       "      <td>MOTO</td>\n",
       "      <td>AUTO</td>\n",
       "      <td>2016-01-01 04:00:00</td>\n",
       "      <td>True</td>\n",
       "    </tr>\n",
       "    <tr>\n",
       "      <th>1001</th>\n",
       "      <td>1</td>\n",
       "      <td>AV GRAL PAZ  Y AV DE LOS CORRALES</td>\n",
       "      <td>AUTOPISTA</td>\n",
       "      <td>9</td>\n",
       "      <td>-58.50877521</td>\n",
       "      <td>-34.66977709</td>\n",
       "      <td>AUTO</td>\n",
       "      <td>PEATON</td>\n",
       "      <td>2016-01-02 01:15:00</td>\n",
       "      <td>True</td>\n",
       "    </tr>\n",
       "    <tr>\n",
       "      <th>1002</th>\n",
       "      <td>1</td>\n",
       "      <td>AV ENTRE RIOS 2034</td>\n",
       "      <td>AVENIDA</td>\n",
       "      <td>1</td>\n",
       "      <td>-58.39040293</td>\n",
       "      <td>-34.63189362</td>\n",
       "      <td>MOTO</td>\n",
       "      <td>AUTO</td>\n",
       "      <td>2016-01-03 07:00:00</td>\n",
       "      <td>True</td>\n",
       "    </tr>\n",
       "    <tr>\n",
       "      <th>1003</th>\n",
       "      <td>1</td>\n",
       "      <td>AV LARRAZABAL Y GRAL VILLEGAS CONRADO</td>\n",
       "      <td>AVENIDA</td>\n",
       "      <td>8</td>\n",
       "      <td>-58.46503904</td>\n",
       "      <td>-34.68092974</td>\n",
       "      <td>MOTO</td>\n",
       "      <td>SD</td>\n",
       "      <td>2016-01-10 00:00:00</td>\n",
       "      <td>True</td>\n",
       "    </tr>\n",
       "    <tr>\n",
       "      <th>1004</th>\n",
       "      <td>1</td>\n",
       "      <td>AV SAN JUAN Y PRESIDENTE LUIS SAENZ PEÑA</td>\n",
       "      <td>AVENIDA</td>\n",
       "      <td>1</td>\n",
       "      <td>-58.38718297</td>\n",
       "      <td>-34.62246630</td>\n",
       "      <td>MOTO</td>\n",
       "      <td>PEATON</td>\n",
       "      <td>2016-01-21 05:20:00</td>\n",
       "      <td>True</td>\n",
       "    </tr>\n",
       "  </tbody>\n",
       "</table>\n",
       "</div>"
      ],
      "text/plain": [
       "      N_VICTIMAS                            LUGAR_DEL_HECHO TIPO_DE_CALLE  \\\n",
       "ID                                                                          \n",
       "1000           1  AV PIEDRA BUENA Y AV FERNANDEZ DE LA CRUZ       AVENIDA   \n",
       "1001           1          AV GRAL PAZ  Y AV DE LOS CORRALES     AUTOPISTA   \n",
       "1002           1                         AV ENTRE RIOS 2034       AVENIDA   \n",
       "1003           1      AV LARRAZABAL Y GRAL VILLEGAS CONRADO       AVENIDA   \n",
       "1004           1  AV SAN JUAN Y PRESIDENTE LUIS SAENZ PEÑA        AVENIDA   \n",
       "\n",
       "      COMUNA      LONGITUD       LATITUD VICTIMA ACUSADO        FECHA_Y_HORA  \\\n",
       "ID                                                                             \n",
       "1000       8  -58.47533969  -34.68757022    MOTO    AUTO 2016-01-01 04:00:00   \n",
       "1001       9  -58.50877521  -34.66977709    AUTO  PEATON 2016-01-02 01:15:00   \n",
       "1002       1  -58.39040293  -34.63189362    MOTO    AUTO 2016-01-03 07:00:00   \n",
       "1003       8  -58.46503904  -34.68092974    MOTO      SD 2016-01-10 00:00:00   \n",
       "1004       1  -58.38718297  -34.62246630    MOTO  PEATON 2016-01-21 05:20:00   \n",
       "\n",
       "      FATAL  \n",
       "ID           \n",
       "1000   True  \n",
       "1001   True  \n",
       "1002   True  \n",
       "1003   True  \n",
       "1004   True  "
      ]
     },
     "execution_count": 173,
     "metadata": {},
     "output_type": "execute_result"
    }
   ],
   "source": [
    "homicidios_df.head()"
   ]
  },
  {
   "cell_type": "markdown",
   "metadata": {},
   "source": [
    "## 2.1 ```N_VICTIMAS```"
   ]
  },
  {
   "cell_type": "code",
   "execution_count": 174,
   "metadata": {},
   "outputs": [
    {
     "data": {
      "text/plain": [
       "<Axes: xlabel='N_VICTIMAS', ylabel='Count'>"
      ]
     },
     "execution_count": 174,
     "metadata": {},
     "output_type": "execute_result"
    },
    {
     "data": {
      "image/png": "[encoded data removed]",
      "text/plain": [
       "<Figure size 640x480 with 1 Axes>"
      ]
     },
     "metadata": {},
     "output_type": "display_data"
    }
   ],
   "source": [
    "plt.figure()\n",
    "sns.histplot(data=homicidios_df, x='N_VICTIMAS')"
   ]
  },
  {
   "cell_type": "markdown",
   "metadata": {},
   "source": [
    "Se puede observar que casi en su totalidad los registros implican una sola victima"
   ]
  },
  {
   "cell_type": "markdown",
   "metadata": {},
   "source": [
    "## 2.2 ```TIPO_DE_CALLE```"
   ]
  },
  {
   "cell_type": "code",
   "execution_count": 175,
   "metadata": {},
   "outputs": [
    {
     "data": {
      "text/plain": [
       "<Axes: xlabel='TIPO_DE_CALLE', ylabel='Count'>"
      ]
     },
     "execution_count": 175,
     "metadata": {},
     "output_type": "execute_result"
    },
    {
     "data": {
      "image/png": "[encoded data removed]",
      "text/plain": [
       "<Figure size 640x480 with 1 Axes>"
      ]
     },
     "metadata": {},
     "output_type": "display_data"
    }
   ],
   "source": [
    "plt.figure()\n",
    "sns.histplot(data=homicidios_df, x='TIPO_DE_CALLE')"
   ]
  },
  {
   "cell_type": "markdown",
   "metadata": {},
   "source": [
    "La mayoria de los incidentes ocurren en una avenida siendo que triplica en comparación a los mismos en las autopistas y las calles"
   ]
  },
  {
   "cell_type": "markdown",
   "metadata": {},
   "source": [
    "## 2.3 ```COMUNA```"
   ]
  },
  {
   "cell_type": "code",
   "execution_count": 176,
   "metadata": {},
   "outputs": [
    {
     "data": {
      "image/png": "[encoded data removed]",
      "text/plain": [
       "<Figure size 1000x600 with 1 Axes>"
      ]
     },
     "metadata": {},
     "output_type": "display_data"
    }
   ],
   "source": [
    "# Calcular la frecuencia de cada categoría\n",
    "comuna_counts = homicidios_df['COMUNA'].value_counts()\n",
    "\n",
    "# Ordenar las comunas de menor a mayor frecuencia\n",
    "comuna_order = comuna_counts.index\n",
    "\n",
    "# Crear el gráfico de barras con orden de menor a mayor\n",
    "plt.figure(figsize=(10, 6))\n",
    "sns.countplot(data=homicidios_df, x='COMUNA', order=comuna_order)\n",
    "plt.xlabel('Comuna')\n",
    "plt.ylabel('Cantidad')\n",
    "plt.title('Cantidad de Homicidios por Comuna')\n",
    "plt.show()"
   ]
  },
  {
   "cell_type": "markdown",
   "metadata": {},
   "source": [
    "Se puede observar una distribuciòn normal sobre los incidentes ocurridos en las diferentes comunas siendo en donde mas se presentan es en la 'comuna 1' y en donde menos es en la 'comuna 6'"
   ]
  },
  {
   "cell_type": "markdown",
   "metadata": {},
   "source": [
    "## 2.4 ```VICTIMA``` Y ```ACUSADO```"
   ]
  },
  {
   "cell_type": "code",
   "execution_count": 177,
   "metadata": {},
   "outputs": [],
   "source": [
    "# Obtener las frecuencias_victimas de cada valor en la columna 'VICTIMA'\n",
    "frecuencias_victimas = homicidios_df['VICTIMA'].value_counts()\n",
    "\n",
    "# Definir un umbral para el número de valores únicos que se mostrarán individualmente\n",
    "umbral = 4\n",
    "\n",
    "# Si hay más de umbral valores únicos, agrupar los menos frecuentes en 'Otros'\n",
    "if len(frecuencias_victimas) > umbral:\n",
    "    top_valores_victimas = frecuencias_victimas[:umbral]\n",
    "    otros_valores = frecuencias_victimas[umbral:].sum()\n",
    "    top_valores_victimas['Otros'] = otros_valores\n",
    "else:\n",
    "    top_valores_victimas = frecuencias_victimas"
   ]
  },
  {
   "cell_type": "code",
   "execution_count": 178,
   "metadata": {},
   "outputs": [],
   "source": [
    "# Obtener las frecuencias_acusado de cada valor en la columna 'ACUSADO'\n",
    "frecuencias_acusado = homicidios_df['ACUSADO'].value_counts()\n",
    "\n",
    "# Definir un umbral para el número de valores únicos que se mostrarán individualmente\n",
    "umbral = 7\n",
    "\n",
    "# Si hay más de umbral valores únicos, agrupar los menos frecuentes en 'Otros'\n",
    "if len(frecuencias_acusado) > umbral:\n",
    "    top_valores_acusado = frecuencias_acusado[:umbral]\n",
    "    otros_valores = frecuencias_acusado[umbral:].sum()\n",
    "    top_valores_acusado['Otros'] = otros_valores\n",
    "else:\n",
    "    top_valores_acusado = frecuencias_acusado"
   ]
  },
  {
   "cell_type": "markdown",
   "metadata": {},
   "source": [
    "Creo que la categoria 'otros' para las columnas ```VICTIMA``` Y ```ACUSADO``` para se mejore la visibilidad en la visualizaciòn"
   ]
  },
  {
   "cell_type": "code",
   "execution_count": 179,
   "metadata": {},
   "outputs": [
    {
     "data": {
      "image/png": "[encoded data removed]",
      "text/plain": [
       "<Figure size 1200x600 with 2 Axes>"
      ]
     },
     "metadata": {},
     "output_type": "display_data"
    }
   ],
   "source": [
    "# Crear la figura y los subgráficos\n",
    "fig, (ax1, ax2) = plt.subplots(1, 2, figsize=(12, 6))\n",
    "\n",
    "# Primer gráfico de torta\n",
    "ax1.pie(top_valores_victimas, labels=top_valores_victimas.index, autopct='%1.1f%%', colors=['lightcoral', 'lightskyblue', 'lightgreen'])\n",
    "ax1.set_title('Gráfico de victimas')\n",
    "\n",
    "\n",
    "# Segundo gráfico de torta\n",
    "ax2.pie(top_valores_acusado, labels=top_valores_acusado.index, autopct='%1.1f%%', colors=['lightcoral', 'lightskyblue', 'lightgreen'])\n",
    "ax2.set_title('Gráfico de acusados')\n",
    "\n",
    "\n",
    "plt.show()"
   ]
  },
  {
   "cell_type": "markdown",
   "metadata": {},
   "source": [
    "Las victimas en la mayoria de casos suelen ser ```MOTO``` y ```PEATON``` como era de esperase y los acusados suelen ser ```AUTO```, ```CARGAS``` Y ```PASAJEROS``` "
   ]
  },
  {
   "cell_type": "markdown",
   "metadata": {},
   "source": [
    "## 2.5 ```FECHA_Y_HORA```"
   ]
  },
  {
   "cell_type": "code",
   "execution_count": 180,
   "metadata": {},
   "outputs": [
    {
     "data": {
      "image/png": "[encoded data removed]",
      "text/plain": [
       "<Figure size 1000x600 with 1 Axes>"
      ]
     },
     "metadata": {},
     "output_type": "display_data"
    }
   ],
   "source": [
    "# Crear un gráfico de densidad de kernel utilizando Seaborn\n",
    "plt.figure(figsize=(10, 6))\n",
    "sns.kdeplot(data=homicidios_df['FECHA_Y_HORA'], fill=True)\n",
    "\n",
    "# Etiquetas y título\n",
    "plt.xlabel('Fecha')\n",
    "plt.ylabel('Densidad')\n",
    "plt.title('Densidad de Registros a lo Largo del Tiempo')\n",
    "\n",
    "# Mostrar el gráfico\n",
    "plt.grid(True)\n",
    "plt.tight_layout()\n",
    "plt.show()"
   ]
  },
  {
   "cell_type": "markdown",
   "metadata": {},
   "source": [
    "Atravez de este grafico de densidad de kernel podemos ver a lo largo del tiempo como se presenta ``una distribuciòn Sesgada a la izquierda`` (o negativa), como su pico llegò en el '2017' y a mediados del '2018' este empezo a decrecer."
   ]
  }
 ],
 "metadata": {
  "kernelspec": {
   "display_name": "Python 3",
   "language": "python",
   "name": "python3"
  },
  "language_info": {
   "codemirror_mode": {
    "name": "ipython",
    "version": 3
   },
   "file_extension": ".py",
   "mimetype": "text/x-python",
   "name": "python",
   "nbconvert_exporter": "python",
   "pygments_lexer": "ipython3",
   "version": "3.10.11"
  }
 },
 "nbformat": 4,
 "nbformat_minor": 2
}
